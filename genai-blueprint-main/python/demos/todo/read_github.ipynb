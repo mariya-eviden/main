{
 "cells": [
  {
   "cell_type": "markdown",
   "metadata": {},
   "source": [
    "# WORK IN PROGRESS"
   ]
  },
  {
   "cell_type": "code",
   "execution_count": null,
   "metadata": {},
   "outputs": [],
   "source": [
    "from github import Github\n",
    "\n",
    "# Create a GitHub instance\n",
    "# If you have a personal access token, use it here\n",
    "g = Github()  # or Github(\"your_personal_access_token\")\n",
    "repo = g.get_repo(\"danielmiessler/fabric\")"
   ]
  },
  {
   "cell_type": "code",
   "execution_count": null,
   "metadata": {},
   "outputs": [],
   "source": [
    "\n",
    "contents = repo.get_contents(\"tree/main/patterns\")"
   ]
  },
  {
   "cell_type": "code",
   "execution_count": null,
   "metadata": {},
   "outputs": [],
   "source": [
    "contents = repo.get_contents(\"\")\n",
    "while contents:\n",
    "    file_content = contents.pop(0)\n",
    "    if file_content.type == \"dir\":\n",
    "        contents.extend(repo.get_contents(file_content.path))\n",
    "    else:\n",
    "        print(file_content)"
   ]
  },
  {
   "cell_type": "code",
   "execution_count": 3,
   "metadata": {},
   "outputs": [
    {
     "name": "stdout",
     "output_type": "stream",
     "text": [
      "<Response [400]>\n"
     ]
    }
   ],
   "source": [
    "import requests\n",
    "\n",
    "URL = \"https://raw.githubusercontent.com/danielmiessler/fabric/main/patterns/\"\n",
    "\n",
    "# Send a GET request to the URL\n",
    "response = requests.get(URL)\n",
    "print(response)"
   ]
  },
  {
   "cell_type": "code",
   "execution_count": null,
   "metadata": {},
   "outputs": [],
   "source": [
    "\n",
    "if response.status_code == 200:\n",
    "    content = response.text\n",
    "    \n",
    "    # Split the content into lines\n",
    "    lines = content.split('\\n')\n",
    "    \n",
    "    # Look for directory indicators (e.g., lines ending with '/')\n",
    "    directories = [line.strip() for line in lines if line.strip().endswith('/')]\n",
    "    \n",
    "    return directories\n",
    "else:\n",
    "    print(f\"Failed to retrieve repository contents. Status code: {response.status_code}\")\n",
    "    return []\n",
    "\n",
    "# Example usage\n",
    "owner = \"renanmouraf\"\n",
    "repo = \"your-repo-name\"\n",
    "\n",
    "directories = get_github_directories(owner, repo)\n",
    "\n",
    "print(f\"Directories in {owner}/{repo}:\")\n",
    "for directory in directories:\n",
    "    print(directory)"
   ]
  }
 ],
 "metadata": {
  "kernelspec": {
   "display_name": "genai-blueprint-2X6HL8i2-py3.10",
   "language": "python",
   "name": "python3"
  },
  "language_info": {
   "codemirror_mode": {
    "name": "ipython",
    "version": 3
   },
   "file_extension": ".py",
   "mimetype": "text/x-python",
   "name": "python",
   "nbconvert_exporter": "python",
   "pygments_lexer": "ipython3",
   "version": "3.10.12"
  }
 },
 "nbformat": 4,
 "nbformat_minor": 2
}
