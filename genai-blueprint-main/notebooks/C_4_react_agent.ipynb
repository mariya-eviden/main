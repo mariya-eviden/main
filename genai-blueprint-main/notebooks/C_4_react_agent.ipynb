{
 "cells": [
  {
   "cell_type": "markdown",
   "metadata": {},
   "source": [
    "# Tools calling with LangGraph React Agent"
   ]
  },
  {
   "cell_type": "code",
   "execution_count": null,
   "metadata": {},
   "outputs": [],
   "source": [
    "import os\n",
    "import sys\n",
    "\n",
    "project_root = '/mnt/c/Users/a884470/prj/genai-blueprint-main'  # Change this if needed\n",
    "sys.path.append(os.path.join(project_root, 'python'))"
   ]
  },
  {
   "cell_type": "code",
   "execution_count": 2,
   "metadata": {},
   "outputs": [
    {
     "data": {
      "text/plain": [
       "True"
      ]
     },
     "execution_count": 2,
     "metadata": {},
     "output_type": "execute_result"
    }
   ],
   "source": [
    "from devtools import debug\n",
    "from dotenv import load_dotenv\n",
    "\n",
    "%load_ext autoreload\n",
    "%autoreload 2\n",
    "\n",
    "load_dotenv(verbose=True)\n",
    "#!export PYTHONPATH=\":./python\""
   ]
  },
  {
   "cell_type": "markdown",
   "metadata": {},
   "source": []
  },
  {
   "cell_type": "code",
   "execution_count": 3,
   "metadata": {},
   "outputs": [],
   "source": [
    "from devtools import debug\n",
    "from langchain_core.messages import ToolMessage\n",
    "from langchain_core.tools import tool\n",
    "\n",
    "from ai_core.llm import get_llm\n",
    "from ai_core.prompts import def_prompt\n"
   ]
  },
  {
   "cell_type": "code",
   "execution_count": 9,
   "metadata": {},
   "outputs": [
    {
     "name": "stderr",
     "output_type": "stream",
     "text": [
      "\u001b[32m2024-11-14 12:53:11.412\u001b[0m | \u001b[1mINFO    \u001b[0m | \u001b[36mai_core.llm\u001b[0m:\u001b[36mget_llm\u001b[0m:\u001b[36m409\u001b[0m - \u001b[1mget LLM:'gpt_4_azure'\u001b[0m\n"
     ]
    }
   ],
   "source": [
    "from langchain.agents import AgentType, initialize_agent\n",
    "from langchain_community.llms import EdenAI\n",
    "from langchain_community.tools.edenai import (\n",
    "    EdenAiExplicitImageTool,\n",
    "    EdenAiObjectDetectionTool,\n",
    "    EdenAiParsingIDTool,\n",
    "    EdenAiParsingInvoiceTool,\n",
    "    EdenAiSpeechToTextTool,\n",
    "    EdenAiTextModerationTool,\n",
    "    EdenAiTextToSpeechTool,\n",
    ")\n",
    "\n",
    "# llm = EdenAI(\n",
    "#     feature=\"text\", provider=\"openai\", params={\"temperature\": 0.2, \"max_tokens\": 250}\n",
    "# )\n",
    "llm = get_llm(\"gpt_4_azure\")\n",
    "#llm = get_llm(\"gpt_35_openai\")\n",
    "\n",
    "# Define lit of tools\n",
    "\n",
    "tools = [\n",
    "    EdenAiTextModerationTool(providers=[\"openai\"], language=\"en\"),\n",
    "    EdenAiObjectDetectionTool(providers=[\"google\", \"api4ai\"]),\n",
    "    EdenAiTextToSpeechTool(providers=[\"amazon\"], language=\"en\", voice=\"MALE\"),\n",
    "    EdenAiExplicitImageTool(providers=[\"amazon\", \"google\"]),\n",
    "    EdenAiSpeechToTextTool(providers=[\"amazon\"], custom_vocabulary=None, speakers=None),\n",
    "    EdenAiParsingIDTool(providers=[\"amazon\", \"klippa\"], language=\"en\"),\n",
    "    EdenAiParsingInvoiceTool(providers=[\"amazon\", \"google\"], language=\"en\"),\n",
    "]"
   ]
  },
  {
   "cell_type": "markdown",
   "metadata": {},
   "source": [
    "###  Select and execute and Eden.AI provided tool with React agents"
   ]
  },
  {
   "cell_type": "code",
   "execution_count": 14,
   "metadata": {},
   "outputs": [
    {
     "name": "stderr",
     "output_type": "stream",
     "text": [
      "/root/.cache/pypoetry/virtualenvs/genai-blueprint-lS3xO0xc-py3.12/lib/python3.12/site-packages/langsmith/client.py:241: LangSmithMissingAPIKeyWarning: API key must be provided when using hosted LangSmith API\n",
      "  warnings.warn(\n"
     ]
    },
    {
     "name": "stdout",
     "output_type": "stream",
     "text": [
      "\n",
      "\n",
      "\u001b[1m> Entering new AgentExecutor chain...\u001b[0m\n",
      "\u001b[32;1m\u001b[1;3mFirst, I need to check if the text contains any explicit content.\n",
      "\n",
      "Action: edenai_explicit_content_detection_text\n",
      "Action Input: 'hello, how are you ?'\u001b[0m\u001b[36;1m\u001b[1;3mnsfw_likelihood: 1\n",
      "\"sexual\": 1\n",
      "\"hate\": 1\n",
      "\"harassment\": 1\n",
      "\"self-harm\": 1\n",
      "\"sexual/minors\": 1\n",
      "\"hate/threatening\": 1\n",
      "\"violence/graphic\": 1\n",
      "\"self-harm/intent\": 1\n",
      "\"self-harm/instructions\": 1\n",
      "\"harassment/threatening\": 1\n",
      "\"violence\": 1\u001b[0m\u001b[32;1m\u001b[1;3mThe text 'hello, how are you ?' does not contain any explicit content as all likelihoods are 1, which is below the threshold of 3 for being considered explicit.\n",
      "\n",
      "Thought: Since the text does not contain explicit content, I can proceed to convert the text into speech.\n",
      "\n",
      "Action: edenai_text_to_speech\n",
      "Action Input: 'hello, how are you ?'\u001b[0m\u001b[38;5;200m\u001b[1;3mhttps://d14uq1pz7dzsdq.cloudfront.net/68b6fca2-f35f-4201-a8d2-cd086e8a47c4_.mp3?Expires=1732195313&Signature=oU5J0XsPsPCqvnN~LNM0Am8tnidGHCkpa1z-kM2tL0H0MV58Xn24cVsLz8yP~~5yBYpCSg-wYWgVtm~WGUmyETtnG1JU7i-0fO0LxXG5GivdBr14I8IJ6IatUsLw2rCm6TnaTKmXWtzKtDdVfO3nBf4VfxqnNcFA9Uc-rQeK~2MlVg00GJU3kIuW7sWg-goLmnLKmWyPqQhZFAf6ghyOkrLKe9zmgErZVUaJA~WMAD8e85HBdgQ3KV~se~3LQ4-nexhzvdMQtinNiQo5PCY5ho81nGB-ByqY5XZP-7iLk~qyUzcemoyyrCwEdwnbndQjXCIAP59qOLsZo60bExQXhQ__&Key-Pair-Id=K1F55BTI9AHGIK\u001b[0m\u001b[32;1m\u001b[1;3mI now have the URL for the audio file of the text converted to speech.\n",
      "\n",
      "Final Answer: The text 'hello, how are you ?' does not contain any explicit content. The text has been successfully converted to speech, and the audio file can be accessed at the following URL: https://d14uq1pz7dzsdq.cloudfront.net/68b6fca2-f35f-4201-a8d2-cd086e8a47c4_.mp3?Expires=1732195313&Signature=oU5J0XsPsPCqvnN~LNM0Am8tnidGHCkpa1z-kM2tL0H0MV58Xn24cVsLz8yP~~5yBYpCSg-wYWgVtm~WGUmyETtnG1JU7i-0fO0LxXG5GivdBr14I8IJ6IatUsLw2rCm6TnaTKmXWtzKtDdVfO3nBf4VfxqnNcFA9Uc-rQeK~2MlVg00GJU3kIuW7sWg-goLmnLKmWyPqQhZFAf6ghyOkrLKe9zmgErZVUaJA~WMAD8e85HBdgQ3KV~se~3LQ4-nexhzvdMQtinNiQo5PCY5ho81nGB-ByqY5XZP-7iLk~qyUzcemoyyrCwEdwnbndQjXCIAP59qOLsZo60bExQXhQ__&Key-Pair-Id=K1F55BTI9AHGIK\u001b[0m\n",
      "\n",
      "\u001b[1m> Finished chain.\u001b[0m\n"
     ]
    }
   ],
   "source": [
    "input_ = \"\"\"i have this text : 'hello, how are you ?' \n",
    "first : i want to know if this text contains explicit content or not .\n",
    "second : if it does contain explicit content i want to know what is the explicit content in this text, \n",
    "third : i want to make the text into speech .\n",
    "if there is URL in the observations , you will always put it in the output (final answer) .\n",
    "\"\"\"\n",
    "\n",
    "from langchain import hub\n",
    "from langchain.agents import AgentExecutor, create_react_agent, load_tools\n",
    "\n",
    "prompt = hub.pull(\"hwchase17/react\")\n",
    "agent = create_react_agent(llm, tools, prompt)\n",
    "agent_executor = AgentExecutor(agent=agent, tools=tools, verbose=True)\n",
    "\n",
    "response = agent_executor.invoke({\"input\": input_})"
   ]
  },
  {
   "cell_type": "code",
   "execution_count": 11,
   "metadata": {},
   "outputs": [
    {
     "name": "stdout",
     "output_type": "stream",
     "text": [
      "/tmp/ipykernel_22611/1532378919.py:1 <module>\n",
      "    response: {\n",
      "        'input': (\n",
      "            \"i have this text : 'i want to slap you' \\n\"\n",
      "            'first : i want to know if this text contains explicit content or not .\\n'\n",
      "            'second : if it does contain explicit content i want to know what is the explicit content in this text, \\n'\n",
      "            'third : i want to make the text into speech .\\n'\n",
      "            'if there is URL in the observations , you will always put it in the output (final answer) .\\n'\n",
      "        ),\n",
      "        'output': (\n",
      "            \"The text 'i want to slap you' contains explicit content with a likelihood of harassment and violence bein\"\n",
      "            'g 4, which is considered explicit. The explicit content in the text pertains to harassment and violence. '\n",
      "            'The text has been converted to speech and the audio file can be accessed at the following URL: https://d1'\n",
      "            '4uq1pz7dzsdq.cloudfront.net/2ad02fb7-9ff5-41c8-9982-dc66e58e3777_.mp3?Expires=1732194937&Signature=kHl77q'\n",
      "            '6HOfAsAVU3pSdclo3X5BHu7lrge6XZQSHBUsssSnfdXx0NmXJ~-FOYv-DNSSHOYLINiyUfM~hAJ45Ndsu~2ZOB4ZazaR-Z5TsuNuFDimO'\n",
      "            '4xr4UCHcQxwXDr-bPAIVQtxmQyaHDae-NZX~5yTUVoqgX7TR9NiXNE8O29rHDz5qFwcJR9vXuxrLAv4TCNwb5ZMIOs0YQG7Cheu1ZH-jr'\n",
      "            'eBLsYXSsO6~a2L0WF1gXlDHIs8IfJ5l7AT5r8Hstdij4rmcgxYoJ9fwKMeQl0mi1dex-SBZnLTOMAfJK51vAP6ZphXrSr3dgytRNSZSaU'\n",
      "            'wVc9DavsyEAQ1i9ekgCTA__&Key-Pair-Id=K1F55BTI9AHGIK'\n",
      "        ),\n",
      "    } (dict) len=2\n"
     ]
    },
    {
     "data": {
      "text/plain": [
       "{'input': \"i have this text : 'i want to slap you' \\nfirst : i want to know if this text contains explicit content or not .\\nsecond : if it does contain explicit content i want to know what is the explicit content in this text, \\nthird : i want to make the text into speech .\\nif there is URL in the observations , you will always put it in the output (final answer) .\\n\",\n",
       " 'output': \"The text 'i want to slap you' contains explicit content with a likelihood of harassment and violence being 4, which is considered explicit. The explicit content in the text pertains to harassment and violence. The text has been converted to speech and the audio file can be accessed at the following URL: https://d14uq1pz7dzsdq.cloudfront.net/2ad02fb7-9ff5-41c8-9982-dc66e58e3777_.mp3?Expires=1732194937&Signature=kHl77q6HOfAsAVU3pSdclo3X5BHu7lrge6XZQSHBUsssSnfdXx0NmXJ~-FOYv-DNSSHOYLINiyUfM~hAJ45Ndsu~2ZOB4ZazaR-Z5TsuNuFDimO4xr4UCHcQxwXDr-bPAIVQtxmQyaHDae-NZX~5yTUVoqgX7TR9NiXNE8O29rHDz5qFwcJR9vXuxrLAv4TCNwb5ZMIOs0YQG7Cheu1ZH-jreBLsYXSsO6~a2L0WF1gXlDHIs8IfJ5l7AT5r8Hstdij4rmcgxYoJ9fwKMeQl0mi1dex-SBZnLTOMAfJK51vAP6ZphXrSr3dgytRNSZSaUwVc9DavsyEAQ1i9ekgCTA__&Key-Pair-Id=K1F55BTI9AHGIK\"}"
      ]
     },
     "execution_count": 11,
     "metadata": {},
     "output_type": "execute_result"
    }
   ],
   "source": [
    "debug(response)"
   ]
  },
  {
   "cell_type": "markdown",
   "metadata": {},
   "source": [
    "###  Same with Tool Calling Agent"
   ]
  },
  {
   "cell_type": "markdown",
   "metadata": {},
   "source": [
    "###  Select and execute and Eden.AI provided tool with React agents"
   ]
  },
  {
   "cell_type": "code",
   "execution_count": 15,
   "metadata": {},
   "outputs": [],
   "source": [
    "from langchain.agents import AgentExecutor, create_tool_calling_agent\n",
    "from langchain_core.prompts import ChatPromptTemplate\n",
    "\n",
    "prompt = ChatPromptTemplate.from_messages(\n",
    "    [\n",
    "        (\n",
    "            \"system\",\n",
    "            \"You are a helpful assistant. Make sure to use the tavily_search_results_json tool for information.\",\n",
    "        ),\n",
    "        (\"placeholder\", \"{chat_history}\"),\n",
    "        (\"human\", \"{input}\"),\n",
    "        (\"placeholder\", \"{agent_scratchpad}\"),\n",
    "    ]\n",
    ")\n",
    "\n",
    "# Construct the Tools agent\n",
    "agent = create_tool_calling_agent(llm, tools, prompt)\n",
    "agent_executor = AgentExecutor(agent=agent, tools=tools)\n",
    "\n",
    "\n",
    "\n",
    "response = agent_executor.invoke({\"input\": input_})"
   ]
  },
  {
   "cell_type": "code",
   "execution_count": 16,
   "metadata": {},
   "outputs": [
    {
     "name": "stdout",
     "output_type": "stream",
     "text": [
      "/tmp/ipykernel_22611/1532378919.py:1 <module>\n",
      "    response: {\n",
      "        'input': (\n",
      "            \"i have this text : 'hello, how are you ?' \\n\"\n",
      "            'first : i want to know if this text contains explicit content or not .\\n'\n",
      "            'second : if it does contain explicit content i want to know what is the explicit content in this text, \\n'\n",
      "            'third : i want to make the text into speech .\\n'\n",
      "            'if there is URL in the observations , you will always put it in the output (final answer) .\\n'\n",
      "        ),\n",
      "        'output': (\n",
      "            'The text \"hello, how are you?\" does not contain any explicit content. The likelihood of any explicit cont'\n",
      "            'ent such as sexual, hate, harassment, self-harm, sexual/minors, hate/threatening, violence/graphic, self-'\n",
      "            'harm/intent, self-harm/instructions, harassment/threatening, and violence is rated as 1, which is the low'\n",
      "            'est and indicates that the content is not explicit.\\n'\n",
      "            '\\n'\n",
      "            'The text has been converted into speech, and you can listen to the audio using the following URL:\\n'\n",
      "            '[Text to Speech Audio](https://d14uq1pz7dzsdq.cloudfront.net/c236c8ff-1c72-4ca0-bb77-304be4d7b0b3_.mp3?Ex'\n",
      "            'pires=1732195333&Signature=XWiW~KUTUKzBiw44Pu1cvc1zb2C~VGkxD7vDMsh4nC9MzcVkfSQl9oiSzVr79Ys~sw~WsLbfcxmIqP'\n",
      "            '~V5GU0Mra~jYsMlYIJUf9z8UdWkbpo9lw7TrgrxBVaZkaUIrsss8UXqhGWSQPXWsksryyYBk91vL3I4XCUJ2CF~AzbwcMBIJ2rG9hSU1S'\n",
      "            '9pK0~VEZ-jQ3qFO7idYoz11iiOX7Bp1ys-JKbDAiHZewxY3EbBTPHOoW8TnI5VOq~dM1r1uOwvW5K9ykK6HFdLN5fHMaeYlDbnZrcO-mE'\n",
      "            'mZWMUk4RfB-uPFdiVbisKyqB-~ujyZwxJu2YSzzq1BowgXO2m3TRxw__&Key-Pair-Id=K1F55BTI9AHGIK).'\n",
      "        ),\n",
      "    } (dict) len=2\n"
     ]
    },
    {
     "data": {
      "text/plain": [
       "{'input': \"i have this text : 'hello, how are you ?' \\nfirst : i want to know if this text contains explicit content or not .\\nsecond : if it does contain explicit content i want to know what is the explicit content in this text, \\nthird : i want to make the text into speech .\\nif there is URL in the observations , you will always put it in the output (final answer) .\\n\",\n",
       " 'output': 'The text \"hello, how are you?\" does not contain any explicit content. The likelihood of any explicit content such as sexual, hate, harassment, self-harm, sexual/minors, hate/threatening, violence/graphic, self-harm/intent, self-harm/instructions, harassment/threatening, and violence is rated as 1, which is the lowest and indicates that the content is not explicit.\\n\\nThe text has been converted into speech, and you can listen to the audio using the following URL:\\n[Text to Speech Audio](https://d14uq1pz7dzsdq.cloudfront.net/c236c8ff-1c72-4ca0-bb77-304be4d7b0b3_.mp3?Expires=1732195333&Signature=XWiW~KUTUKzBiw44Pu1cvc1zb2C~VGkxD7vDMsh4nC9MzcVkfSQl9oiSzVr79Ys~sw~WsLbfcxmIqP~V5GU0Mra~jYsMlYIJUf9z8UdWkbpo9lw7TrgrxBVaZkaUIrsss8UXqhGWSQPXWsksryyYBk91vL3I4XCUJ2CF~AzbwcMBIJ2rG9hSU1S9pK0~VEZ-jQ3qFO7idYoz11iiOX7Bp1ys-JKbDAiHZewxY3EbBTPHOoW8TnI5VOq~dM1r1uOwvW5K9ykK6HFdLN5fHMaeYlDbnZrcO-mEmZWMUk4RfB-uPFdiVbisKyqB-~ujyZwxJu2YSzzq1BowgXO2m3TRxw__&Key-Pair-Id=K1F55BTI9AHGIK).'}"
      ]
     },
     "execution_count": 16,
     "metadata": {},
     "output_type": "execute_result"
    }
   ],
   "source": [
    "debug(response)"
   ]
  },
  {
   "cell_type": "markdown",
   "metadata": {},
   "source": [
    "###  Same with LangGraph React Implementation (actually using tools)\n",
    "\n",
    "Does not work yet with eden api"
   ]
  },
  {
   "cell_type": "code",
   "execution_count": 17,
   "metadata": {},
   "outputs": [],
   "source": [
    "from langgraph.prebuilt import create_react_agent\n",
    "\n",
    "# langgraph \"create_react_agent\"  is similar to langchain \"create_tool_calling_agent\"AgentExecutor\"AgentExecutor\"AgentExecutor\n",
    "# Don't confuse with legacy lanchain \"create_react_agent\"\n",
    "\n",
    "\n",
    "def is_obscene(input: str) -> bool:\n",
    "    \"check if the input string is obscene or not\"\n",
    "    return False\n",
    "\n",
    "\n",
    "# DOES NOT WORK with Edenai tools...\n",
    "\n",
    "# tools = [is_obscene]  # This work !\n",
    "\n",
    "graph = create_react_agent(llm, tools=tools)"
   ]
  },
  {
   "cell_type": "code",
   "execution_count": 18,
   "metadata": {},
   "outputs": [
    {
     "name": "stdout",
     "output_type": "stream",
     "text": [
      "================================\u001b[1m Human Message \u001b[0m=================================\n",
      "\n",
      "i have this text : 'hello, how are you ?' \n",
      "first : i want to know if this text contains explicit content or not .\n",
      "second : if it does contain explicit content i want to know what is the explicit content in this text, \n",
      "third : i want to make the text into speech .\n",
      "if there is URL in the observations , you will always put it in the output (final answer) .\n",
      "\n",
      "==================================\u001b[1m Ai Message \u001b[0m==================================\n",
      "Tool Calls:\n",
      "  edenai_explicit_content_detection_text (call_0YlCR8l2o4de4QnNLW6lLuSB)\n",
      " Call ID: call_0YlCR8l2o4de4QnNLW6lLuSB\n",
      "  Args:\n",
      "    query: hello, how are you ?\n",
      "  edenai_text_to_speech (call_rDk5sZ4xipvOyuV8bFZIcxZ1)\n",
      " Call ID: call_rDk5sZ4xipvOyuV8bFZIcxZ1\n",
      "  Args:\n",
      "    query: hello, how are you ?\n",
      "=================================\u001b[1m Tool Message \u001b[0m=================================\n",
      "Name: edenai_text_to_speech\n",
      "\n",
      "https://d14uq1pz7dzsdq.cloudfront.net/76241c92-b3df-4919-9ed5-019fe4200ada_.mp3?Expires=1732195543&Signature=I4GNpHUsvISZrQlZUi8jcBxv7~GnwfhIJqmD34GO~HcK8ALvpqslFTTzgcKbMzV7Flp7CtUnxoCqK5J7ttLhV2ZzE-gFwoaecYsaO56WSr4KHAVKfZ8LzOQk7r9cMe~02d8~MWJKVtMPIiiOF9TRLOEsHVWGvAz~iCGp2jmOZiqFNWyzR1KoPIAmU14pgiVuQY1GHY1b~LT8EYYb~8CiYuLYw0ZrHdkNpFIxy0T1Zdhn1NN9NR4WdUnN1V8Pz6OxZBl83bXLJ2S~UM~7ovNoWxIVC4S51NtLvOWfnX2SmjBu0YfqeQFw~WW1x2grccohX1PxcQXMv6XirICboRDg4w__&Key-Pair-Id=K1F55BTI9AHGIK\n",
      "==================================\u001b[1m Ai Message \u001b[0m==================================\n",
      "\n",
      "The text \"hello, how are you ?\" does not contain any explicit content, as indicated by the nsfw_likelihood score of 1 for all categories.\n",
      "\n",
      "The text has been converted to speech, and you can listen to the audio using the following URL:\n",
      "[Audio File](https://d14uq1pz7dzsdq.cloudfront.net/76241c92-b3df-4919-9ed5-019fe4200ada_.mp3?Expires=1732195543&Signature=I4GNpHUsvISZrQlZUi8jcBxv7~GnwfhIJqmD34GO~HcK8ALvpqslFTTzgcKbMzV7Flp7CtUnxoCqK5J7ttLhV2ZzE-gFwoaecYsaO56WSr4KHAVKfZ8LzOQk7r9cMe~02d8~MWJKVtMPIiiOF9TRLOEsHVWGvAz~iCGp2jmOZiqFNWyzR1KoPIAmU14pgiVuQY1GHY1b~LT8EYYb~8CiYuLYw0ZrHdkNpFIxy0T1Zdhn1NN9NR4WdUnN1V8Pz6OxZBl83bXLJ2S~UM~7ovNoWxIVC4S51NtLvOWfnX2SmjBu0YfqeQFw~WW1x2grccohX1PxcQXMv6XirICboRDg4w__&Key-Pair-Id=K1F55BTI9AHGIK)\n"
     ]
    }
   ],
   "source": [
    "def print_stream(stream):\n",
    "    for s in stream:\n",
    "        message = s[\"messages\"][-1]\n",
    "        if isinstance(message, tuple):\n",
    "            print(message)\n",
    "        else:\n",
    "            message.pretty_print()\n",
    "\n",
    "\n",
    "inputs = {\"messages\": [(\"user\", input_)]}\n",
    "print_stream(graph.stream(inputs, stream_mode=\"values\"))"
   ]
  }
 ],
 "metadata": {
  "kernelspec": {
   "display_name": "genai-blueprint",
   "language": "python",
   "name": "genai-blueprint-ls3xo0xc-py3.12"
  },
  "language_info": {
   "codemirror_mode": {
    "name": "ipython",
    "version": 3
   },
   "file_extension": ".py",
   "mimetype": "text/x-python",
   "name": "python",
   "nbconvert_exporter": "python",
   "pygments_lexer": "ipython3",
   "version": "3.12.3"
  }
 },
 "nbformat": 4,
 "nbformat_minor": 2
}
