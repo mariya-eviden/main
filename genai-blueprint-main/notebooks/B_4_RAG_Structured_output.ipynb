{
 "cells": [
  {
   "cell_type": "code",
   "execution_count": null,
   "metadata": {},
   "outputs": [],
   "source": [
    "from devtools import debug\n",
    "from dotenv import load_dotenv\n",
    "\n",
    "%load_ext autoreload\n",
    "%autoreload 2\n",
    "\n",
    "load_dotenv(verbose=True)\n",
    "!export PYTHONPATH=\":./python\""
   ]
  },
  {
   "cell_type": "code",
   "execution_count": null,
   "metadata": {},
   "outputs": [],
   "source": [
    "# cSpell:disable\n",
    "\n",
    "import re\n",
    "\n",
    "from devtools import debug\n",
    "from langchain.output_parsers import PydanticOutputParser\n",
    "from langchain_community.document_loaders.web_base import WebBaseLoader\n",
    "from pydantic import BaseModel, Field\n",
    "\n",
    "URL = \"https://www.agroparistech.fr/formations-ingenieur/mention-biodiversite-ecologie-evolution-montpellier-parcours-m1-biodiversite-vegetale-gestion-ecosystemes-tropicaux-montpellier\"\n",
    "\n",
    "loader = WebBaseLoader(URL)\n",
    "doc = loader.load()\n",
    "page = doc[0].page_content.strip()\n",
    "page_cleaned = re.sub(r\"[\\t ]+\", \" \", page)\n",
    "page_cleaned = re.sub(r\"\\n{3,}\", \"\\n\\n\", page_cleaned)"
   ]
  },
  {
   "cell_type": "code",
   "execution_count": null,
   "metadata": {},
   "outputs": [],
   "source": [
    "from python.ai_core.llm import get_llm\n",
    "from python.ai_core.prompts import def_prompt\n",
    "\n",
    "\n",
    "class Parcours(BaseModel):\n",
    "    metiers: list[str] = Field(\n",
    "        description=\"liste de metiers auquels peut conduire la formation\"\n",
    "    )\n",
    "    domaines: list[str] = Field(\n",
    "        description=\"domaines auquels s'applique cette formation\"\n",
    "    )\n",
    "\n",
    "\n",
    "system = \"\"\"\n",
    "    Extraire les metiers et les domaines d'une fiche de description de formation récupérée sur internet.  \n",
    "    Repondre seulement avec les informations disponibles dans la description.\n",
    "    \\n\n",
    "    \"\"\"\n",
    "user = \"\"\"\n",
    "    fiche de desctiption de formation:\n",
    "    --- \n",
    "    {fiche}\n",
    "    --- \n",
    "    {format_instructions}\"\"\"\n",
    "\n",
    "parser = PydanticOutputParser(pydantic_object=Parcours)\n",
    "\n",
    "prompt = def_prompt(system=system, user=user).partial(\n",
    "    format_instructions=parser.get_format_instructions()\n",
    ")\n",
    "\n",
    "llm = get_llm(temperature=0.0)\n",
    "chain = prompt | llm | parser\n",
    "summaries = chain.batch([{\"fiche\": page_cleaned}], {\"max_concurrency\": 5})\n",
    "\n",
    "debug(summaries)"
   ]
  },
  {
   "cell_type": "code",
   "execution_count": null,
   "metadata": {},
   "outputs": [],
   "source": []
  }
 ],
 "metadata": {
  "kernelspec": {
   "display_name": "genai-training-2X6HL8i2-py3.10",
   "language": "python",
   "name": "python3"
  },
  "language_info": {
   "codemirror_mode": {
    "name": "ipython",
    "version": 3
   },
   "file_extension": ".py",
   "mimetype": "text/x-python",
   "name": "python",
   "nbconvert_exporter": "python",
   "pygments_lexer": "ipython3",
   "version": "3.10.12"
  }
 },
 "nbformat": 4,
 "nbformat_minor": 2
}
