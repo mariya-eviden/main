{
 "cells": [
  {
   "cell_type": "markdown",
   "metadata": {},
   "source": [
    "# Experiments with Runnables"
   ]
  },
  {
   "cell_type": "markdown",
   "metadata": {},
   "source": [
    "Create a few RunnableLambda, and compose them in sequence and in parallel"
   ]
  },
  {
   "cell_type": "code",
   "execution_count": null,
   "metadata": {},
   "outputs": [],
   "source": [
    "from langchain_core.runnables import (\n",
    "    RunnableLambda,\n",
    "    RunnableParallel,\n",
    "    RunnablePassthrough,\n",
    "    chain,\n",
    ")\n",
    "\n",
    "add_1 = RunnableLambda(lambda x: x + 1)\n",
    "add_3 = RunnableLambda(lambda x: x + 3)\n",
    "\n",
    "\n",
    "@chain\n",
    "def mult_2(x: int):\n",
    "    return x * 2\n",
    "\n",
    "\n",
    "sequence = mult_2 | add_1\n",
    "parallel = mult_2 | {\"add_1\": add_1, \"add_3\": add_3}\n",
    "\n",
    "# same as above:\n",
    "parallel1 = RunnableParallel(add_1=add_1, add_3=add_3)"
   ]
  },
  {
   "cell_type": "code",
   "execution_count": 5,
   "metadata": {},
   "outputs": [
    {
     "data": {
      "text/plain": [
       "6"
      ]
     },
     "execution_count": 5,
     "metadata": {},
     "output_type": "execute_result"
    }
   ],
   "source": [
    "add_1.invoke(5)"
   ]
  },
  {
   "cell_type": "markdown",
   "metadata": {},
   "source": [
    "Run the runnable directly, batched, in parallel (multi-threaded whenever possible!), ..."
   ]
  },
  {
   "cell_type": "code",
   "execution_count": 6,
   "metadata": {},
   "outputs": [
    {
     "name": "stdout",
     "output_type": "stream",
     "text": [
      "3\n"
     ]
    },
    {
     "data": {
      "text/plain": [
       "[3, 5, 7, 9, 11]"
      ]
     },
     "execution_count": 6,
     "metadata": {},
     "output_type": "execute_result"
    }
   ],
   "source": [
    "print(sequence.invoke(1))  # 3\n",
    "sequence.batch([1, 2, 3])  # [3,5,7]\n",
    "parallel.invoke(1)  # {'add_1': 3, 'add_3': 4}\n",
    "\n",
    "await sequence.abatch([1, 2, 3, 4, 5])"
   ]
  },
  {
   "cell_type": "code",
   "execution_count": 7,
   "metadata": {},
   "outputs": [
    {
     "data": {
      "text/plain": [
       "3"
      ]
     },
     "execution_count": 7,
     "metadata": {},
     "output_type": "execute_result"
    }
   ],
   "source": [
    "sequence.invoke(1)  # 3"
   ]
  },
  {
   "cell_type": "markdown",
   "metadata": {},
   "source": [
    "Runnable can stream their outcome"
   ]
  },
  {
   "cell_type": "code",
   "execution_count": 8,
   "metadata": {},
   "outputs": [
    {
     "name": "stdout",
     "output_type": "stream",
     "text": [
      "{'add_1': 200001}|{'add_3': 200003}|"
     ]
    }
   ],
   "source": [
    "for s in parallel.stream(100000):\n",
    "    print(s, end=\"|\", flush=True)"
   ]
  },
  {
   "cell_type": "markdown",
   "metadata": {},
   "source": [
    "Print the graph and various type information"
   ]
  },
  {
   "cell_type": "code",
   "execution_count": 9,
   "metadata": {},
   "outputs": [
    {
     "name": "stdout",
     "output_type": "stream",
     "text": [
      "        +--------------+         \n",
      "        | mult_2_input |         \n",
      "        +--------------+         \n",
      "                *                \n",
      "                *                \n",
      "                *                \n",
      "          +--------+             \n",
      "          | mult_2 |             \n",
      "          +--------+             \n",
      "                *                \n",
      "                *                \n",
      "                *                \n",
      "+----------------------------+   \n",
      "| Parallel<add_1,add_3>Input |   \n",
      "+----------------------------+   \n",
      "          **        **           \n",
      "        **            **         \n",
      "       *                *        \n",
      "+--------+          +--------+   \n",
      "| Lambda |          | Lambda |   \n",
      "+--------+          +--------+   \n",
      "          **        **           \n",
      "            **    **             \n",
      "              *  *               \n",
      "+-----------------------------+  \n",
      "| Parallel<add_1,add_3>Output |  \n",
      "+-----------------------------+  \n",
      "input type: <class 'int'>\n",
      "output type: typing.Any\n",
      "output schema:  {'title': 'RunnableLambdaOutput'}\n"
     ]
    }
   ],
   "source": [
    "parallel.get_graph().print_ascii()\n",
    "\n",
    "print(\"input type:\", sequence.InputType)\n",
    "print(\"output type:\", sequence.OutputType)\n",
    "\n",
    "# print(\"input schema: \", sequence.input_schema().model_json_schema())  # Does no longer work\n",
    "print(\"output schema: \", sequence.output_schema().model_json_schema())"
   ]
  },
  {
   "cell_type": "markdown",
   "metadata": {},
   "source": [
    "Use RunnablePassthrough"
   ]
  },
  {
   "cell_type": "code",
   "execution_count": 10,
   "metadata": {},
   "outputs": [
    {
     "data": {
      "text/plain": [
       "{'titi': 10, 'modified': 11}"
      ]
     },
     "execution_count": 10,
     "metadata": {},
     "output_type": "execute_result"
    }
   ],
   "source": [
    "runnable = RunnableParallel(titi=RunnablePassthrough(), modified=add_1)\n",
    "\n",
    "\n",
    "runnable.invoke(10)  # {'origin': 10, 'modified': 11}"
   ]
  },
  {
   "cell_type": "markdown",
   "metadata": {},
   "source": [
    "Demo 'bind' and 'RunnableConfig' : implement a filter, and log activities"
   ]
  },
  {
   "cell_type": "code",
   "execution_count": 12,
   "metadata": {},
   "outputs": [
    {
     "name": "stderr",
     "output_type": "stream",
     "text": [
      "\u001b[32m2024-11-12 12:22:24.263\u001b[0m | \u001b[1mINFO    \u001b[0m | \u001b[36m__main__\u001b[0m:\u001b[36mmax\u001b[0m:\u001b[36m10\u001b[0m - \u001b[1mcheck if 3 < 6\u001b[0m\n",
      "\u001b[32m2024-11-12 12:22:24.268\u001b[0m | \u001b[1mINFO    \u001b[0m | \u001b[36m__main__\u001b[0m:\u001b[36mmax\u001b[0m:\u001b[36m10\u001b[0m - \u001b[1mcheck if 5 < 6\u001b[0m\n",
      "\u001b[32m2024-11-12 12:22:24.271\u001b[0m | \u001b[1mINFO    \u001b[0m | \u001b[36m__main__\u001b[0m:\u001b[36mmax\u001b[0m:\u001b[36m10\u001b[0m - \u001b[1mcheck if 7 < 6\u001b[0m\n",
      "\u001b[32m2024-11-12 12:22:24.273\u001b[0m | \u001b[1mINFO    \u001b[0m | \u001b[36m__main__\u001b[0m:\u001b[36mmax\u001b[0m:\u001b[36m10\u001b[0m - \u001b[1mcheck if 9 < 6\u001b[0m\n",
      "\u001b[32m2024-11-12 12:22:24.273\u001b[0m | \u001b[1mINFO    \u001b[0m | \u001b[36m__main__\u001b[0m:\u001b[36mmax\u001b[0m:\u001b[36m10\u001b[0m - \u001b[1mcheck if 11 < 6\u001b[0m\n"
     ]
    },
    {
     "data": {
      "text/plain": [
       "[3, 5, 6, 6, 6]"
      ]
     },
     "execution_count": 12,
     "metadata": {},
     "output_type": "execute_result"
    }
   ],
   "source": [
    "from typing import cast\n",
    "\n",
    "from langchain_core.runnables import RunnableConfig\n",
    "from loguru import logger\n",
    "\n",
    "\n",
    "@chain  # type: ignore\n",
    "def max(x: int, max: int, config: RunnableConfig) -> int:\n",
    "    if log := (config[\"configurable\"][\"logger\"]):  # type: ignore\n",
    "        log.info(f\"check if {x} < {max}\")\n",
    "    return max if x >= max else x\n",
    "\n",
    "a = sequence | max.bind(max=6) # type: ignore\n",
    "a.batch([1, 2, 3, 4, 5], config=({\"logger\": logger}))"
   ]
  },
  {
   "cell_type": "code",
   "execution_count": 13,
   "metadata": {},
   "outputs": [
    {
     "data": {
      "text/plain": [
       "langchain_core.runnables.base.RunnableLambda"
      ]
     },
     "execution_count": 13,
     "metadata": {},
     "output_type": "execute_result"
    }
   ],
   "source": [
    "type(max)"
   ]
  },
  {
   "cell_type": "code",
   "execution_count": 14,
   "metadata": {},
   "outputs": [
    {
     "name": "stderr",
     "output_type": "stream",
     "text": [
      "\u001b[32m2024-11-12 12:24:13.365\u001b[0m | \u001b[1mINFO    \u001b[0m | \u001b[36m__main__\u001b[0m:\u001b[36mmax\u001b[0m:\u001b[36m10\u001b[0m - \u001b[1mcheck if 10 < 6\u001b[0m\n"
     ]
    },
    {
     "data": {
      "text/plain": [
       "6"
      ]
     },
     "execution_count": 14,
     "metadata": {},
     "output_type": "execute_result"
    }
   ],
   "source": [
    "a = max.bind(\n",
    "    max=6,\n",
    ")\n",
    "a.invoke(10, {\"logger\": logger})"
   ]
  },
  {
   "cell_type": "markdown",
   "metadata": {},
   "source": [
    "Demo 'assign\", that adds new fields to the dict output of the runnable and returns a new runnable. Often use with RunnablePassthrough to add a given argument to a dict."
   ]
  },
  {
   "cell_type": "code",
   "execution_count": 15,
   "metadata": {},
   "outputs": [
    {
     "data": {
      "text/plain": [
       "{'extra': {'num': 2, 'mult_10': 20},\n",
       " 'plus_1': 3,\n",
       " 'info': {'extra': {'num': 2, 'mult_10': 20}, 'plus_1': 3},\n",
       " 'plus_1_time_3': 9}"
      ]
     },
     "execution_count": 15,
     "metadata": {},
     "output_type": "execute_result"
    }
   ],
   "source": [
    "from langchain_core.runnables import RunnableParallel, RunnablePassthrough\n",
    "\n",
    "runnable = (\n",
    "    RunnableParallel(\n",
    "        extra=RunnablePassthrough.assign(mult_10=lambda x: x[\"num\"] * 10),\n",
    "        plus_1=lambda x: x[\"num\"] + 1,\n",
    "    )\n",
    "    .assign(info=lambda x: x)\n",
    "    .assign(plus_1_time_3=lambda x: x[\"plus_1\"] * 3)\n",
    ")\n",
    "\n",
    "runnable.invoke({\"num\": 2})"
   ]
  },
  {
   "cell_type": "code",
   "execution_count": 16,
   "metadata": {},
   "outputs": [
    {
     "name": "stdout",
     "output_type": "stream",
     "text": [
      "                  +-----------------------------+                 \n",
      "                  | Parallel<extra,plus_1>Input |                 \n",
      "                  +-----------------------------+                 \n",
      "                        ***                  ****                 \n",
      "                     ***                         ****             \n",
      "                   **                                ****         \n",
      "   +------------------------+                            ***      \n",
      "   | Parallel<mult_10>Input |                              *      \n",
      "   +------------------------+                              *      \n",
      "          **         ***                                   *      \n",
      "        **              *                                  *      \n",
      "       *                 **                                *      \n",
      "+--------+          +-------------+                        *      \n",
      "| Lambda |          | Passthrough |                        *      \n",
      "+--------+          +-------------+                        *      \n",
      "          **         ***                                   *      \n",
      "            **      *                                      *      \n",
      "              *   **                                       *      \n",
      "   +-------------------------+                        +--------+  \n",
      "   | Parallel<mult_10>Output |                       *| Lambda |  \n",
      "   +-------------------------+                   **** +--------+  \n",
      "                        ***                  ****                 \n",
      "                           ***           ****                     \n",
      "                              **      ***                         \n",
      "                  +------------------------------+                \n",
      "                  | Parallel<extra,plus_1>Output |                \n",
      "                  +------------------------------+                \n",
      "                                  *                               \n",
      "                                  *                               \n",
      "                                  *                               \n",
      "                      +---------------------+                     \n",
      "                      | Parallel<info>Input |                     \n",
      "                      +---------------------+                     \n",
      "                           ***        ***                         \n",
      "                          *              *                        \n",
      "                        **                **                      \n",
      "                 +--------+          +-------------+              \n",
      "                 | Lambda |          | Passthrough |              \n",
      "                 +--------+          +-------------+              \n",
      "                           ***        ***                         \n",
      "                              *      *                            \n",
      "                               **  **                             \n",
      "                      +----------------------+                    \n",
      "                      | Parallel<info>Output |                    \n",
      "                      +----------------------+                    \n",
      "                                  *                               \n",
      "                                  *                               \n",
      "                                  *                               \n",
      "                  +------------------------------+                \n",
      "                  | Parallel<plus_1_time_3>Input |                \n",
      "                  +------------------------------+                \n",
      "                           ***        ***                         \n",
      "                          *              *                        \n",
      "                        **                **                      \n",
      "                 +--------+          +-------------+              \n",
      "                 | Lambda |          | Passthrough |              \n",
      "                 +--------+          +-------------+              \n",
      "                           ***        ***                         \n",
      "                              *      *                            \n",
      "                               **  **                             \n",
      "                 +-------------------------------+                \n",
      "                 | Parallel<plus_1_time_3>Output |                \n",
      "                 +-------------------------------+                \n"
     ]
    }
   ],
   "source": [
    "runnable.get_graph().print_ascii()"
   ]
  },
  {
   "cell_type": "markdown",
   "metadata": {},
   "source": [
    "Most of the time, there are several parameters, or it's a dictionary (almost equivalent in Python).\n",
    "'itemgetter' create a function that can extract one or several fields from a dictionary. \n",
    "\n",
    "First have a look at how it works:"
   ]
  },
  {
   "cell_type": "code",
   "execution_count": 20,
   "metadata": {},
   "outputs": [
    {
     "data": {
      "text/plain": [
       "'What are the types of agent memory?'"
      ]
     },
     "execution_count": 20,
     "metadata": {},
     "output_type": "execute_result"
    }
   ],
   "source": [
    "from operator import itemgetter\n",
    "\n",
    "dic = {\n",
    "    \"question\": \"What are the types of agent memory?\",\n",
    "    \"generation\": \"The types of agent memory are: sensory memory, short-term memory, and long-term memory.\",\n",
    "    \"documents\": [],\n",
    "}\n",
    "\n",
    "getter_function = itemgetter(\"generation\")\n",
    "getter_function(dic)\n",
    "getter_function1 = itemgetter(\"question\")\n",
    "getter_function1(dic)"
   ]
  },
  {
   "cell_type": "markdown",
   "metadata": {},
   "source": [
    "here an example with Runnables"
   ]
  },
  {
   "cell_type": "code",
   "execution_count": 21,
   "metadata": {},
   "outputs": [
    {
     "data": {
      "text/plain": [
       "24"
      ]
     },
     "execution_count": 21,
     "metadata": {},
     "output_type": "execute_result"
    }
   ],
   "source": [
    "adder = RunnableLambda(lambda d: d[\"op1\"] + d[\"op2\"])\n",
    "\n",
    "\n",
    "mult_2_and_add = (\n",
    "    RunnableParallel(\n",
    "        op1=RunnablePassthrough() | itemgetter(\"a\") | mult_2,\n",
    "        op2=RunnablePassthrough() | itemgetter(\"b\") | mult_2,\n",
    "    )\n",
    "    | adder\n",
    ")\n",
    "\n",
    "mult_2_and_add.invoke({\"a\": 10, \"b\": 2, \"z\": \"sds\"})  # should return 2*10 + 2*2 = 24"
   ]
  },
  {
   "cell_type": "code",
   "execution_count": 22,
   "metadata": {},
   "outputs": [
    {
     "data": {
      "text/plain": [
       "24"
      ]
     },
     "execution_count": 22,
     "metadata": {},
     "output_type": "execute_result"
    }
   ],
   "source": [
    "zzz = RunnableLambda(lambda x: {\"a\": x, \"b\": 2}) | mult_2_and_add\n",
    "\n",
    "zzz.invoke(10)"
   ]
  },
  {
   "cell_type": "markdown",
   "metadata": {},
   "source": [
    "Runnables can have fallback in case they break."
   ]
  },
  {
   "cell_type": "code",
   "execution_count": 23,
   "metadata": {},
   "outputs": [
    {
     "data": {
      "text/plain": [
       "4"
      ]
     },
     "execution_count": 23,
     "metadata": {},
     "output_type": "execute_result"
    }
   ],
   "source": [
    "@chain\n",
    "def mult_10_fail(x: int):\n",
    "    raise Exception(\"unavailable multiplication by 10 service\")\n",
    "    return x * 10\n",
    "\n",
    "\n",
    "fallback_chain = mult_10_fail.with_fallbacks([mult_2])\n",
    "fallback_chain.invoke(2)"
   ]
  },
  {
   "cell_type": "markdown",
   "metadata": {},
   "source": [
    "See also : https://python.langchain.com/v0.2/docs/how_to/lcel_cheatsheet/"
   ]
  },
  {
   "cell_type": "markdown",
   "metadata": {},
   "source": []
  }
 ],
 "metadata": {
  "kernelspec": {
   "display_name": "genai-blueprint",
   "language": "python",
   "name": "genai-blueprint-ls3xo0xc-py3.12"
  },
  "language_info": {
   "codemirror_mode": {
    "name": "ipython",
    "version": 3
   },
   "file_extension": ".py",
   "mimetype": "text/x-python",
   "name": "python",
   "nbconvert_exporter": "python",
   "pygments_lexer": "ipython3",
   "version": "3.12.3"
  }
 },
 "nbformat": 4,
 "nbformat_minor": 2
}
