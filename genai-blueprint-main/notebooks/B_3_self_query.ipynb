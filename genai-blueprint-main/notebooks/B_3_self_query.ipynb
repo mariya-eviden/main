{
 "cells": [
  {
   "cell_type": "markdown",
   "metadata": {},
   "source": [
    "# Self Query \n",
    "\n",
    "The code is here : [ai_chains/B_2_self_query.py](../python/ai_chains/B_2_self_query.py)  <br>\n",
    "- Adapted from: https://python.langchain.com/docs/modules/data_connection/retrievers/self_query/\n",
    "- See also https://blog.langchain.dev/query-construction/\n",
    "\n",
    "Can be executed in the WebApp "
   ]
  },
  {
   "cell_type": "code",
   "execution_count": null,
   "metadata": {},
   "outputs": [],
   "source": [
    "from devtools import debug\n",
    "from dotenv import load_dotenv\n",
    "\n",
    "%load_ext autoreload\n",
    "%autoreload 2\n",
    "\n",
    "load_dotenv(verbose=True)\n",
    "!export PYTHONPATH=\":./python\""
   ]
  },
  {
   "cell_type": "code",
   "execution_count": null,
   "metadata": {},
   "outputs": [],
   "source": [
    "from python.ai_core.llm import get_llm\n",
    "from python.ai_core.prompts import def_prompt\n",
    "\n",
    "from python.ai_chains.B_2_self_query import get_query_constructor, get_retriever"
   ]
  },
  {
   "cell_type": "code",
   "execution_count": null,
   "metadata": {},
   "outputs": [],
   "source": [
    "query_constructor = get_query_constructor({})\n",
    "query = query_constructor.invoke(\n",
    "    {\n",
    "        \"query\": \"What are some sci-fi movies from the 90's directed by Luc Besson about taxi drivers\"\n",
    "    }\n",
    ")\n",
    "debug(query)"
   ]
  },
  {
   "cell_type": "code",
   "execution_count": null,
   "metadata": {},
   "outputs": [],
   "source": [
    "#retriever = get_retriever(config={\"llm\": None})\n",
    "retriever = get_retriever(config={\"llm\": \"gpt_35_azure\"})\n",
    "result = retriever.invoke(\"I want to watch a movie rated higher than 8.5\")\n",
    "debug(result)"
   ]
  }
 ],
 "metadata": {
  "kernelspec": {
   "display_name": "genai-blueprint-2X6HL8i2-py3.10",
   "language": "python",
   "name": "python3"
  },
  "language_info": {
   "codemirror_mode": {
    "name": "ipython",
    "version": 3
   },
   "file_extension": ".py",
   "mimetype": "text/x-python",
   "name": "python",
   "nbconvert_exporter": "python",
   "pygments_lexer": "ipython3",
   "version": "3.10.12"
  }
 },
 "nbformat": 4,
 "nbformat_minor": 2
}
